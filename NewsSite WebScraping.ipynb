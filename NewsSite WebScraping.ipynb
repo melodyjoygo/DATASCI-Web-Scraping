{
  "nbformat": 4,
  "nbformat_minor": 0,
  "metadata": {
    "colab": {
      "name": "news website scraping",
      "provenance": []
    },
    "kernelspec": {
      "name": "python3",
      "display_name": "Python 3"
    }
  },
  "cells": [
    {
      "cell_type": "markdown",
      "metadata": {
        "id": "5JpHVeA2XtNk"
      },
      "source": [
        "Go, Melody Joy S11\r\n",
        "\r\n",
        "News Website Scraping using News API\r\n",
        "News Site: BBC News"
      ]
    },
    {
      "cell_type": "code",
      "metadata": {
        "colab": {
          "base_uri": "https://localhost:8080/"
        },
        "id": "uHow0zguuQsO",
        "outputId": "2d7fe5e4-50dc-489c-fd17-195511d83fbc"
      },
      "source": [
        "!pip install newsapi-python"
      ],
      "execution_count": null,
      "outputs": [
        {
          "output_type": "stream",
          "text": [
            "Collecting newsapi-python\n",
            "  Downloading https://files.pythonhosted.org/packages/de/9e/9050199ac7cbc755d1c49577fdaa5517901124b574264b3602a8b8028440/newsapi_python-0.2.6-py2.py3-none-any.whl\n",
            "Requirement already satisfied: requests<3.0.0 in /usr/local/lib/python3.7/dist-packages (from newsapi-python) (2.23.0)\n",
            "Requirement already satisfied: idna<3,>=2.5 in /usr/local/lib/python3.7/dist-packages (from requests<3.0.0->newsapi-python) (2.10)\n",
            "Requirement already satisfied: certifi>=2017.4.17 in /usr/local/lib/python3.7/dist-packages (from requests<3.0.0->newsapi-python) (2020.12.5)\n",
            "Requirement already satisfied: urllib3!=1.25.0,!=1.25.1,<1.26,>=1.21.1 in /usr/local/lib/python3.7/dist-packages (from requests<3.0.0->newsapi-python) (1.24.3)\n",
            "Requirement already satisfied: chardet<4,>=3.0.2 in /usr/local/lib/python3.7/dist-packages (from requests<3.0.0->newsapi-python) (3.0.4)\n",
            "Installing collected packages: newsapi-python\n",
            "Successfully installed newsapi-python-0.2.6\n"
          ],
          "name": "stdout"
        }
      ]
    },
    {
      "cell_type": "code",
      "metadata": {
        "id": "PC2qhkOxuvzG"
      },
      "source": [
        "from newsapi import NewsApiClient"
      ],
      "execution_count": null,
      "outputs": []
    },
    {
      "cell_type": "code",
      "metadata": {
        "id": "T62fm-NpuzKL"
      },
      "source": [
        "# Init\r\n",
        "newsapi = NewsApiClient(api_key='53f887aa651545fdb28d2d9eb7ae4099')"
      ],
      "execution_count": null,
      "outputs": []
    },
    {
      "cell_type": "code",
      "metadata": {
        "colab": {
          "base_uri": "https://localhost:8080/"
        },
        "id": "AO3EPPtcvE1_",
        "outputId": "917f0c9f-0bc3-4cd5-a4ad-1c5c8efe2c9f"
      },
      "source": [
        "all_articles = newsapi.get_everything(\n",
        "                                      sources='bbc-news',\n",
        "                                      from_param='2021-03-11',\n",
        "                                      to='2021-03-12',\n",
        "                                      language='en',\n",
        "                                      sort_by='relevancy',\n",
        "                                      page=2)\n",
        "\n",
        "all_articles"
      ],
      "execution_count": null,
      "outputs": [
        {
          "output_type": "execute_result",
          "data": {
            "text/plain": [
              "{'articles': [{'author': 'https://www.facebook.com/bbcnews',\n",
              "   'content': 'image copyrightYusuf Tijjani\\r\\nimage captionParents and relatives gathered at the school for news on the fate of their children\\r\\nGunmen have abducted dozens of students from a college in the northern … [+945 chars]',\n",
              "   'description': 'Residents who heard gunfire overnight thought it was a military exercise at the site in Kaduna state.',\n",
              "   'publishedAt': '2021-03-12T11:08:46Z',\n",
              "   'source': {'id': 'bbc-news', 'name': 'BBC News'},\n",
              "   'title': 'Nigeria student kidnapping near Kaduna army base',\n",
              "   'url': 'https://www.bbc.co.uk/news/world-africa-56373690',\n",
              "   'urlToImage': 'https://ichef.bbci.co.uk/news/1024/branded_news/14932/production/_117547248_index2.jpg'},\n",
              "  {'author': None,\n",
              "   'content': \"Josh Adams scored a hat-trick when Wales beat Italy 42-0 in last year's Six Nations\\r\\n<table><tr><th>Guinness Six Nations: Italy v Wales</th></tr>\\r\\n<tr><td>Venue: Stadio Olimpico, Rome Date: Saturday,… [+5170 chars]\",\n",
              "   'description': \"Team news, match preview and statistics for Saturday's Six Nations match between Italy and Wales at the Stadio Olimpico.\",\n",
              "   'publishedAt': '2021-03-12T11:17:05Z',\n",
              "   'source': {'id': 'bbc-news', 'name': 'BBC News'},\n",
              "   'title': 'Six Nations 2021: Italy v Wales preview, team news & key stats',\n",
              "   'url': 'https://www.bbc.co.uk/sport/rugby-union/56350532',\n",
              "   'urlToImage': 'https://ichef.bbci.co.uk/live-experience/cps/624/cpsprodpb/BE79/production/_117516784_pivacgetty.jpg'},\n",
              "  {'author': 'https://www.facebook.com/bbcnews',\n",
              "   'content': 'image captionClaire Mercer said the Highways England advert was \"outrageous\"\\r\\nA motorway safety advert featuring two squashed flies advising a driver is a \"bad joke\", a woman whose husband was killed… [+2685 chars]',\n",
              "   'description': 'Claire Mercer says she thought the advert, featuring squashed flies, was a \"spoof\" when she first saw it.',\n",
              "   'publishedAt': '2021-03-12T10:53:06Z',\n",
              "   'source': {'id': 'bbc-news', 'name': 'BBC News'},\n",
              "   'title': \"Smart motorway death widow criticises 'silly' safety ad\",\n",
              "   'url': 'https://www.bbc.co.uk/news/uk-england-south-yorkshire-56371018',\n",
              "   'urlToImage': 'https://ichef.bbci.co.uk/news/1024/branded_news/14F10/production/_116567758_mediaitem116567757.jpg'},\n",
              "  {'author': 'https://www.facebook.com/bbcnews',\n",
              "   'content': \"image copyrightEnvironmental Defense Fund\\r\\nimage captionCo-founders of Choked Up: Destiny Boka Batesa, Anjali Raman-Middleton and Nyeleti Brauer-Maxaeia,\\r\\nTeenage protesters living in some of London'… [+2295 chars]\",\n",
              "   'description': 'Protest group Choked Up want to prevent further deaths like that of nine-year-old Ella Adoo-Kissi-Debrah.',\n",
              "   'publishedAt': '2021-03-12T11:11:10Z',\n",
              "   'source': {'id': 'bbc-news', 'name': 'BBC News'},\n",
              "   'title': 'London air pollution: Campaigning teenagers put up warning signs',\n",
              "   'url': 'https://www.bbc.co.uk/news/uk-england-london-56372704',\n",
              "   'urlToImage': 'https://ichef.bbci.co.uk/news/1024/branded_news/16868/production/_117546229_whitechapel-largesizefile-01.jpg'},\n",
              "  {'author': None,\n",
              "   'content': 'Wilfried Zaha has scored four times in his last four Premier League appearances against West Brom\\r\\nTEAM NEWS\\r\\nWilfried Zaha could make his first start since 2 February after returning from a hamstrin… [+2807 chars]',\n",
              "   'description': \"Preview followed by live coverage of Saturday's Premier League game between Crystal Palace and West Bromwich Albion.\",\n",
              "   'publishedAt': '2021-03-12T11:57:28Z',\n",
              "   'source': {'id': 'bbc-news', 'name': 'BBC News'},\n",
              "   'title': 'Crystal Palace v West Bromwich Albion',\n",
              "   'url': 'https://www.bbc.co.uk/sport/football/56247506',\n",
              "   'urlToImage': 'https://ichef.bbci.co.uk/live-experience/cps/624/cpsprodpb/5FB8/production/_117540542_13strides.jpg'},\n",
              "  {'author': None,\n",
              "   'content': 'England captain Owen Farrell continues in midfield with George Ford at fly-half\\r\\n<table><tr><th>Guinness Six Nations: England v France</th></tr>\\r\\n<tr><td>Venue: Twickenham Date: Saturday, 13 March Ki… [+6205 chars]',\n",
              "   'description': 'Team news, preview and statistics as England seek to return to winning ways against Grand Slam-chasing France at Twickenham on Saturday.',\n",
              "   'publishedAt': '2021-03-12T15:24:47Z',\n",
              "   'source': {'id': 'bbc-news', 'name': 'BBC News'},\n",
              "   'title': 'Six Nations 2021: England v France team news, preview & key stats',\n",
              "   'url': 'https://www.bbc.co.uk/sport/rugby-union/56353623',\n",
              "   'urlToImage': 'https://ichef.bbci.co.uk/live-experience/cps/624/cpsprodpb/177CD/production/_117550269_dupont_maro_getty.jpg'},\n",
              "  {'author': None,\n",
              "   'content': 'The president of Mozambique has sacked the head of the army and the air force chief at a time of increased insecurity in the north-east, where an Islamist insurgency has driven more than half a milli… [+532 chars]',\n",
              "   'description': 'The president of Mozambique has sacked the head of the army and the air force chief at a time of increased insecurity in the north-east, where an Islamist insurgency has driven more than half a million people from their homes in the past year. Aid agencies ar…',\n",
              "   'publishedAt': '2021-03-12T15:11:00Z',\n",
              "   'source': {'id': 'bbc-news', 'name': 'BBC News'},\n",
              "   'title': 'Mozambique: Thousands trapped by Islamist militants',\n",
              "   'url': 'https://www.bbc.co.uk/programmes/w172x2z7gy3mltt',\n",
              "   'urlToImage': 'https://ichef.bbci.co.uk/images/ic/1200x675/p099j09p.jpg'},\n",
              "  {'author': None,\n",
              "   'content': 'The latest five minute news bulletin from BBC World Service.',\n",
              "   'description': 'The latest five minute news bulletin from BBC World Service.',\n",
              "   'publishedAt': '2021-03-12T15:06:00Z',\n",
              "   'source': {'id': 'bbc-news', 'name': 'BBC News'},\n",
              "   'title': '2021/03/12 15:00 GMT',\n",
              "   'url': 'https://www.bbc.co.uk/programmes/w172x5pc0dlyjyc',\n",
              "   'urlToImage': 'https://ichef.bbci.co.uk/images/ic/1200x675/p060dh18.jpg'},\n",
              "  {'author': 'https://www.facebook.com/bbcnews',\n",
              "   'content': 'image copyrightGetty Images\\r\\nYouTube has removed more than 30,000 misleading Covid-19 vaccination videos in the past five months, it said.\\r\\nA YouTube spokeswoman said the videos contradicted vaccine … [+1991 chars]',\n",
              "   'description': 'The platform says it has taken down 30,000 videos since its ban on false vaccine claims in October.',\n",
              "   'publishedAt': '2021-03-12T14:37:47Z',\n",
              "   'source': {'id': 'bbc-news', 'name': 'BBC News'},\n",
              "   'title': 'YouTube deletes 30,000 vaccine misinfo videos',\n",
              "   'url': 'https://www.bbc.co.uk/news/technology-56372184',\n",
              "   'urlToImage': 'https://ichef.bbci.co.uk/news/1024/branded_news/7B06/production/_117549413_gettyimages-1231664238.jpg'},\n",
              "  {'author': 'https://www.facebook.com/bbcnews',\n",
              "   'content': 'image captionThe University of Manchester has denied banning or scrapping certain words\\r\\nA university has advised staff against using the terms \"mother\" and \"father\" to avoid bias and assumption. \\r\\nT… [+2640 chars]',\n",
              "   'description': 'An MP says the University of Manchester\\'s guidance on inclusive language is \"wokery gone mad\".',\n",
              "   'publishedAt': '2021-03-12T14:49:19Z',\n",
              "   'source': {'id': 'bbc-news', 'name': 'BBC News'},\n",
              "   'title': \"University of Manchester advises against using 'mother' and 'father'\",\n",
              "   'url': 'https://www.bbc.co.uk/news/uk-england-manchester-56372118',\n",
              "   'urlToImage': 'https://ichef.bbci.co.uk/news/1024/branded_news/316E/production/_117545621_uni.jpg'},\n",
              "  {'author': 'https://www.facebook.com/bbcnews',\n",
              "   'content': 'By Krassi Twigg and Kerry AllenBBC Monitoring\\r\\nimage captionFacebook and Twitter removed accounts linked to China during unrest in Hong Kong in 2019\\r\\nThe Chinese embassy in London has criticised the … [+5552 chars]',\n",
              "   'description': 'Researchers have identified tactics including the use of high-profile “wolf warriors” and fake social media accounts.',\n",
              "   'publishedAt': '2021-03-12T13:47:50Z',\n",
              "   'source': {'id': 'bbc-news', 'name': 'BBC News'},\n",
              "   'title': 'The disinformation tactics used by China',\n",
              "   'url': 'https://www.bbc.co.uk/news/56364952',\n",
              "   'urlToImage': 'https://ichef.bbci.co.uk/news/1024/branded_news/4622/production/_117545971_reutershongkong2.jpg'},\n",
              "  {'author': None,\n",
              "   'content': 'Scotland could face France on 26 March\\r\\n<table><tr><th>Six Nations 2021: Scotland v Ireland</th></tr>\\r\\n<tr><td>Venue: Murrayfield Stadium, Edinburgh Date: Sunday, 14 March Kick-off: 15:00 GMT</td></t… [+1761 chars]',\n",
              "   'description': 'Scotland head coach Gregor Townsend says \"there\\'s a few things to be sorted\" before his side\\'s Six Nations meeting with France can be rearranged.',\n",
              "   'publishedAt': '2021-03-12T15:05:24Z',\n",
              "   'source': {'id': 'bbc-news', 'name': 'BBC News'},\n",
              "   'title': \"France v Scotland: Gregor Townsend hopes match is rescheduled 'soon'\",\n",
              "   'url': 'https://www.bbc.co.uk/sport/rugby-union/56378122',\n",
              "   'urlToImage': 'https://ichef.bbci.co.uk/live-experience/cps/624/cpsprodpb/2F49/production/_117550121_20011813.jpg'},\n",
              "  {'author': None,\n",
              "   'content': '<table><tr><th>Six Nations 2021: Scotland v Ireland</th></tr>\\r\\n<tr><td>Venue: Murrayfield Stadium, Edinburgh Date: Sunday, 14 March Kick-off: 15:00 GMT</td></tr><tr><td>Coverage: Live on BBC One, BBC… [+1344 chars]',\n",
              "   'description': 'Flanker Jamie Ritchie is one of four changes to the Scotland team that hosts Ireland in the Six Nations on Sunday.',\n",
              "   'publishedAt': '2021-03-12T13:12:36Z',\n",
              "   'source': {'id': 'bbc-news', 'name': 'BBC News'},\n",
              "   'title': 'Six Nations 2021: Scotland v Ireland - Jamie Ritchie returns for hosts',\n",
              "   'url': 'https://www.bbc.co.uk/sport/rugby-union/56374196',\n",
              "   'urlToImage': 'https://ichef.bbci.co.uk/live-experience/cps/624/cpsprodpb/13590/production/_97584297_breaking_news.png'},\n",
              "  {'author': 'https://www.facebook.com/bbcnews',\n",
              "   'content': \"image copyrightMartyn Brown\\r\\nimage captionGordon Hall has been described as an 'incredibly generous soul'\\r\\nA games developer who founded one of the studios which made titles in the hugely successful … [+1758 chars]\",\n",
              "   'description': 'Colleagues praise Gordon Hall, who led Rockstar Leeds in making handheld versions of the hit game.',\n",
              "   'publishedAt': '2021-03-12T13:08:18Z',\n",
              "   'source': {'id': 'bbc-news', 'name': 'BBC News'},\n",
              "   'title': 'Grand Theft Auto: Rockstar Leeds founder Gordon Hall dies aged 51',\n",
              "   'url': 'https://www.bbc.co.uk/news/uk-england-leeds-56374535',\n",
              "   'urlToImage': 'https://ichef.bbci.co.uk/news/1024/branded_news/9B68/production/_117548793_gordon.jpg'},\n",
              "  {'author': None,\n",
              "   'content': 'Digital-only trading cards are being bought and sold as non-fungible tokens (NFTs).\\r\\nAn NFT uses blockchain technology to create a unique digital certificate which states who owns it. There is no phy… [+450 chars]',\n",
              "   'description': 'Blockchain based non-fungible tokens are seeing a boom in the sale and trade of digital-only items.',\n",
              "   'publishedAt': '2021-03-12T13:17:36Z',\n",
              "   'source': {'id': 'bbc-news', 'name': 'BBC News'},\n",
              "   'title': 'Will digital trading cards replace physical ones?',\n",
              "   'url': 'https://www.bbc.co.uk/news/av/technology-56372956',\n",
              "   'urlToImage': 'https://ichef.bbci.co.uk/images/ic/400xn/p099hhmp.jpg'},\n",
              "  {'author': 'https://www.facebook.com/bbcnews',\n",
              "   'content': \"image copyrightBBC/Beeple\\r\\nA digital-only artwork has sold at Christie's auction house for an eye-watering $69m (£50m) - but the winning bidder will not receive a sculpture, painting or even a print.… [+3874 chars]\",\n",
              "   'description': 'Artwork is being \"tokenised\" and sold online for millions of dollars - but will the bubble burst?',\n",
              "   'publishedAt': '2021-03-12T13:17:13Z',\n",
              "   'source': {'id': 'bbc-news', 'name': 'BBC News'},\n",
              "   'title': 'What are NFTs and why are they worth millions?',\n",
              "   'url': 'https://www.bbc.co.uk/news/technology-56371912',\n",
              "   'urlToImage': 'https://ichef.bbci.co.uk/news/1024/branded_news/31F0/production/_117548721_nfts2.jpg'},\n",
              "  {'author': 'https://www.facebook.com/bbcnews',\n",
              "   'content': 'image captionPhoebe was two years old when she went missing from her home in Nantwich\\r\\nA cat missing for two decades was able to spend her final hours with her owner before being put down due to the … [+1572 chars]',\n",
              "   'description': 'Phoebe is found seriously ill in a field at the age of 22 but has a special reunion in her final hours.',\n",
              "   'publishedAt': '2021-03-12T10:33:13Z',\n",
              "   'source': {'id': 'bbc-news', 'name': 'BBC News'},\n",
              "   'title': 'Cat missing for 20 years spent final days with owner',\n",
              "   'url': 'https://www.bbc.co.uk/news/uk-england-56372714',\n",
              "   'urlToImage': 'https://ichef.bbci.co.uk/news/1024/branded_news/11FB6/production/_117545637_phoebe2.jpg'},\n",
              "  {'author': None,\n",
              "   'content': 'The latest five minute news bulletin from BBC World Service.',\n",
              "   'description': 'The latest five minute news bulletin from BBC World Service.',\n",
              "   'publishedAt': '2021-03-12T12:06:00Z',\n",
              "   'source': {'id': 'bbc-news', 'name': 'BBC News'},\n",
              "   'title': '2021/03/12 12:00 GMT',\n",
              "   'url': 'https://www.bbc.co.uk/programmes/w172x5pc0dly5pz',\n",
              "   'urlToImage': 'https://ichef.bbci.co.uk/images/ic/1200x675/p060dh18.jpg'},\n",
              "  {'author': 'https://www.facebook.com/bbcnews',\n",
              "   'content': 'By Ali GordonBBC News NI\\r\\nimage captionFirst Minister Arlene Foster met Boris Johnson at a Covid-19 vaccination centre in Enniskillen\\r\\nSinn Féin has refused to meet Boris Johnson as the Prime Ministe… [+3917 chars]',\n",
              "   'description': 'Sinn Féin snubs what it calls a \"PR exercise\" by Boris Johnson, while the DUP raises NI Protocol concerns.',\n",
              "   'publishedAt': '2021-03-12T13:59:36Z',\n",
              "   'source': {'id': 'bbc-news', 'name': 'BBC News'},\n",
              "   'title': 'Boris Johnson visits Northern Ireland amid unionist tension',\n",
              "   'url': 'https://www.bbc.co.uk/news/uk-northern-ireland-56373901',\n",
              "   'urlToImage': 'https://ichef.bbci.co.uk/news/1024/branded_news/10CA6/production/_117547786_bj6.jpg'},\n",
              "  {'author': None,\n",
              "   'content': 'Jose Mourinho says striker Harry Kane is totally committed to Spurs\\r\\nTottenham manager Jose Mourinho says he is concerned only with challenging for the Premier League top four, and not North London r… [+2657 chars]',\n",
              "   'description': 'Tottenham manager Jose Mourinho says he is not looking down towards North London rivals Arsenal as his side chase a top-four place.',\n",
              "   'publishedAt': '2021-03-12T17:13:59Z',\n",
              "   'source': {'id': 'bbc-news', 'name': 'BBC News'},\n",
              "   'title': \"'I look up, I don't look down' - Mourinho focused on top-four hopes over Arsenal rivalry\",\n",
              "   'url': 'https://www.bbc.co.uk/sport/football/56379839',\n",
              "   'urlToImage': 'https://ichef.bbci.co.uk/live-experience/cps/624/cpsprodpb/12061/production/_117552837_whatsubject.jpg'}],\n",
              " 'status': 'ok',\n",
              " 'totalResults': 379}"
            ]
          },
          "metadata": {
            "tags": []
          },
          "execution_count": 31
        }
      ]
    }
  ]
}